{
 "cells": [
  {
   "cell_type": "markdown",
   "id": "bd2ea287",
   "metadata": {},
   "source": [
    "# Numpy\n",
    "Documentation  : https://numpy.org/doc/stable/reference/index.html\n",
    "#### Sommaires :\n",
    "* [1](#1) : Les bases de numpy\n",
    "    * [1.1](#1.1) : Principaux générateurs de tableaux ndarray \n",
    "    * [1.2](#1.2) : Attributs importants\n",
    "    * [1.3](#1.3) : Méthodes importantes\n",
    "* [2](#2) : Indexing et slicing\n",
    "    * [2.1](#2.1) : Indexing et sclicing\n",
    "    * [2.2](#2.2) : Boolean indexing\n",
    "* [3](#3) : Mathématiques et statistiques\n",
    "    * [3.1](#3.1) : Méthodes mathématiques de base\n",
    "    * [3.2](#3.2) : Statistiques\n",
    "        * [3.2.1](#3.2.1) : Méthodes statistiques de base\n",
    "        * [3.2.2](#3.2.2) : Corrélation de Pearson\n",
    "        * [3.2.3](#3.2.3) : Correction de Dataset\n",
    "    * [3.3](#3.3) : Algèbre linéaire"
   ]
  },
  {
   "cell_type": "code",
   "execution_count": 1,
   "id": "b8ef8097-b502-4503-8916-0833f713e2e9",
   "metadata": {},
   "outputs": [],
   "source": [
    "import numpy as np"
   ]
  },
  {
   "cell_type": "markdown",
   "id": "699b6cba",
   "metadata": {},
   "source": [
    "# 1. Les bases de numpy\n",
    "### 1.1. Principaux générateurs de tableaux ndarray <a class=\"anchor\" id=\"1.1\"></a>\n",
    "* générateurs par défaut : **np.array()**\n",
    "* générateur 1D : **np.linspace()**,  **np.arange()**\n",
    "* générateur nD : **np.zeros()**, **np.ones()**, **np.random.randn()**, **np.random.rand()**, **np.random.randint()**\n",
    "* générateur particulier : **np.eye()** "
   ]
  },
  {
   "cell_type": "code",
   "execution_count": 2,
   "id": "ff5ac008",
   "metadata": {},
   "outputs": [],
   "source": [
    "A = np.array([[1, 2, 3], [4, 5, 6]]) # Converti des listes (ou autres objets) en tableau ndarray\n",
    "\n",
    "B = np.linspace(1,10, 10) # np.linspace(début,fin,nombre)\n",
    "C = np.arange(0, 10, 2) # np.arange(début,fin,pas)\n",
    "\n",
    "D = np.zeros((2, 3)) # tableau de 0 aux dimensions 2x3\n",
    "E = np.ones((2, 3)) # tableau de 1 aux dimensions 2x3\n",
    "F = np.random.randn(2, 3) # tableau aléatoire (distribution normale) aux dimensions 2x3\n",
    "G = np.random.rand(2, 3) # tableau aléatoire (distribution uniforme) aux dimensions 2x3\n",
    "H = np.random.randint(0, 10, [2, 3]) # tableau d'entiers aléatoires de 0 a 10 et de dimension 2x3\n",
    "\n",
    "I = np.eye(4) # Matrice diagonale aux dimensions 4x4"
   ]
  },
  {
   "cell_type": "markdown",
   "id": "105708e6",
   "metadata": {},
   "source": [
    "L'argument **dtype=** permet de définir le type d'objet et la place occuper sur la mémoire"
   ]
  },
  {
   "cell_type": "code",
   "execution_count": 3,
   "id": "24f6fd01",
   "metadata": {},
   "outputs": [],
   "source": [
    "A = np.ones((2, 3), dtype=np.float16) # type float de 16 bits "
   ]
  },
  {
   "cell_type": "markdown",
   "id": "5ef3714f",
   "metadata": {},
   "source": [
    "### 1.2. Attributs importants <a class=\"anchor\" id=\"1.2\"></a>\n",
    "* **.size** : nombre d'éléments dans un tableau\n",
    "* **.shape** : dimensions d'un tableau (sous forme de tuple)"
   ]
  },
  {
   "cell_type": "code",
   "execution_count": 4,
   "id": "eaf8903a",
   "metadata": {},
   "outputs": [
    {
     "name": "stdout",
     "output_type": "stream",
     "text": [
      "nombre d'éléments de A:  6\n",
      "shape de A:  (2, 3)\n",
      "nombre de ligne de A:  2\n"
     ]
    }
   ],
   "source": [
    "A = np.zeros((2, 3)) # Création d'un tableau de 0 aux dimensions 2x3\n",
    "\n",
    "print(\"nombre d'éléments de A: \", A.size)\n",
    "print(\"shape de A: \", A.shape)\n",
    "print(\"nombre de ligne de A: \", A.shape[0])"
   ]
  },
  {
   "cell_type": "markdown",
   "id": "62832b89",
   "metadata": {},
   "source": [
    "### 1.3. Méthodes importantes <a class=\"anchor\" id=\"1.3\"></a>\n",
    "* **.reshape()** : pour redimensionner un tableau\n",
    "* **.ravel()** : pour applatir un tableau (qu'il ne fasse plus qu'une dimension)\n",
    "* **.squeeze()** : quand une dimension est égale a 1, cette dimension disparait\n",
    "* **np.concatenate()** : assemble 2 tableaux ensemble selon un axes (existe aussi en hstack et vstack)"
   ]
  },
  {
   "cell_type": "code",
   "execution_count": 5,
   "id": "487d3e81",
   "metadata": {},
   "outputs": [],
   "source": [
    "A = np.zeros((2, 3)) # création d'un tableau de shape (2, 3)\n",
    " \n",
    "A = A.reshape((3, 2)) # redimensionne le tableau A (3 lignes, 2 colonnes)\n",
    "A = A.ravel() # Aplatit le tableau A (une seule dimension))\n",
    "A = A.squeeze() # élimine les dimensions \"1\" de A."
   ]
  },
  {
   "cell_type": "code",
   "execution_count": 6,
   "id": "32d13958",
   "metadata": {},
   "outputs": [
    {
     "name": "stdout",
     "output_type": "stream",
     "text": [
      "[[0. 0. 0.]\n",
      " [0. 0. 0.]\n",
      " [1. 1. 1.]\n",
      " [1. 1. 1.]] \n",
      "\n"
     ]
    }
   ],
   "source": [
    "A = np.zeros((2, 3)) # création d'un tableau de shape (2, 3)\n",
    "B = np.ones((2, 3)) # création d'un tableau de shape (2, 3)\n",
    "\n",
    "C = np.concatenate((A, B), axis=0) # axe 0 (colonnes) : équivalent de np.vstack((A, B))\n",
    "print(C, \"\\n\")"
   ]
  },
  {
   "cell_type": "code",
   "execution_count": 7,
   "id": "03aea42c",
   "metadata": {},
   "outputs": [
    {
     "name": "stdout",
     "output_type": "stream",
     "text": [
      "[[0. 0. 0. 1. 1. 1.]\n",
      " [0. 0. 0. 1. 1. 1.]]\n"
     ]
    }
   ],
   "source": [
    "D = np.concatenate((A, B), axis=1) # axe 1 (lignes) : équivalent de np.hstack((A, B))\n",
    "print(D)"
   ]
  },
  {
   "cell_type": "markdown",
   "id": "8ef5dd99",
   "metadata": {},
   "source": [
    "# 2. Indexing et slicing  <a class=\"anchor\" id=\"2\"></a>\n",
    "### 2.1 Indexing et sclicing <a class=\"anchor\" id=\"2.1\"></a>\n",
    "Même fonctionnement que pour les listes."
   ]
  },
  {
   "cell_type": "code",
   "execution_count": 8,
   "id": "5b5f5d60",
   "metadata": {},
   "outputs": [
    {
     "data": {
      "text/plain": [
       "array([7, 8, 9])"
      ]
     },
     "execution_count": 8,
     "metadata": {},
     "output_type": "execute_result"
    }
   ],
   "source": [
    "A = np.array([[1, 2, 3], [4, 5, 6], [7, 8, 9]])\n",
    "\n",
    "A[0, 1] # Pour acceder a la ligne 0, colonne 1\n",
    "A[0:2, 0:2] # Pour selectionner les blocs de la ligne (0-1) colonne (0-1)\n",
    "A[:, 0] # Pour selectionner la première colonne \n",
    "A[-1, :] # Pour selectionner la dernière ligne"
   ]
  },
  {
   "cell_type": "markdown",
   "id": "ead2b220",
   "metadata": {},
   "source": [
    "### 2.2 Boolean Indexing <a class=\"anchor\" id=\"2.2\"></a>\n",
    "Un masque Boolean est une matrice constituée de \"True\" et de \"False\", et construite à partir d'une ou de plusieurs comparaisons."
   ]
  },
  {
   "cell_type": "code",
   "execution_count": 9,
   "id": "361fb570",
   "metadata": {},
   "outputs": [
    {
     "name": "stdout",
     "output_type": "stream",
     "text": [
      "[[ True  True  True]\n",
      " [ True False False]]\n"
     ]
    }
   ],
   "source": [
    "A = np.array([[1, 2, 3], [4, 5, 6]])\n",
    " \n",
    "print(A < 5) # masque booléen"
   ]
  },
  {
   "cell_type": "code",
   "execution_count": 10,
   "id": "e506a2de",
   "metadata": {},
   "outputs": [
    {
     "name": "stdout",
     "output_type": "stream",
     "text": [
      "[1 2 3 4]\n"
     ]
    }
   ],
   "source": [
    "print(A[A < 5]) # sous-ensemble filtré par le masque booléen, affiche dans une matrice 1D les valeurs True"
   ]
  },
  {
   "cell_type": "code",
   "execution_count": 11,
   "id": "c64c1645",
   "metadata": {},
   "outputs": [
    {
     "name": "stdout",
     "output_type": "stream",
     "text": [
      "[[4 4 4]\n",
      " [4 5 6]]\n"
     ]
    }
   ],
   "source": [
    "A[A < 5] = 4 # remplace les valeurs sélectionnées par une nouvelle valeur\n",
    "\n",
    "print(A)"
   ]
  },
  {
   "cell_type": "markdown",
   "id": "9e50ba76",
   "metadata": {},
   "source": [
    "# 3. Mathématiques et statistiques <a class=\"anchor\" id=\"3\"></a>\n",
    "### 3.1. Méthodes mathématiques de base <a class=\"anchor\" id=\"3.1\"></a>\n",
    "* **.sum()** : somme\n",
    "* **.cumsum()** : somme cumulée\n",
    "* **.prod()** : produit\n",
    "* **.cumprod()** : produit cumulé\n",
    "* **.min()** : minimun du tableau\n",
    "* **.max()** : maximum du tableau\n",
    "* **.argmin()** : retourne la position du minimun\n",
    "* **.argmax()** : retourne la position du maximum\n",
    "* **np.sort()** : tri les valeur d'un tableau 1D\n",
    "* **.argsort()** : retourne la façon dont il faut classer les index pour trier le tableau \n",
    "* **np.exp(), np.log(), np.sin(), np.cos(),** etc..."
   ]
  },
  {
   "cell_type": "code",
   "execution_count": 12,
   "id": "6b5403fc",
   "metadata": {},
   "outputs": [
    {
     "name": "stdout",
     "output_type": "stream",
     "text": [
      "Somme:  21\n",
      "Somme lignes:  [5 7 9]\n",
      "Somme cumulé [ 1  3  6 10 15 21]\n",
      "Produit:  720\n",
      "Produit cumulé:  [  1   2   6  24 120 720]\n",
      "Max:  6\n",
      "Index du maximum:  5\n"
     ]
    }
   ],
   "source": [
    "A = np.array([[1, 2, 3], [4, 5, 6]])\n",
    "\n",
    "print(\"Somme: \", A.sum()) # effectue la somme de tous les éléments du tableau\n",
    "print(\"Somme lignes: \", A.sum(axis=0)) # effectue la somme des colonnes (somme sur éléments des les lignes)\n",
    "print(\"Somme cumulé\", A.cumsum()) # effectue la somme cumulée\n",
    " \n",
    "print(\"Produit: \", A.prod()) # effectue le produit\n",
    "print(\"Produit cumulé: \",A.cumprod()) # effectue le produit cumulé\n",
    " \n",
    "print(\"Max: \", A.max()) # trouve le maximum du tableau\n",
    "print(\"Index du maximum: \", A.argmax()) # trouve l'index du maximum"
   ]
  },
  {
   "cell_type": "code",
   "execution_count": 13,
   "id": "64f316f4",
   "metadata": {},
   "outputs": [
    {
     "name": "stdout",
     "output_type": "stream",
     "text": [
      "[[4 0 7 2 6]\n",
      " [5 9 7 8 7]\n",
      " [6 8 8 2 7]\n",
      " [2 3 9 5 8]\n",
      " [4 2 3 1 4]]\n"
     ]
    }
   ],
   "source": [
    "A = np.random.randint(0, 10, [5, 5]) # tableau aléatoire\n",
    "print(A)"
   ]
  },
  {
   "cell_type": "code",
   "execution_count": 14,
   "id": "0488f740",
   "metadata": {},
   "outputs": [
    {
     "name": "stdout",
     "output_type": "stream",
     "text": [
      "[3 0 4 1 2]\n"
     ]
    }
   ],
   "source": [
    "print(A[:,0].argsort()) # retourne les index pour trier la colonne 0 du tableau A"
   ]
  },
  {
   "cell_type": "markdown",
   "id": "a3adf357",
   "metadata": {},
   "source": [
    "### 3.2. Statistiques <a class=\"anchor\" id=\"3.2\"></a>\n",
    "#### 3.2.1. Méthodes statistique de base <a class=\"anchor\" id=\"3.2.1\"></a>\n",
    "* **.mean()** : moyenne\n",
    "* **.std()** : écart-type (σ)\n",
    "* **.var()** : variance (σ²)\n",
    "* **np.unique()** : renvoie une liste avec les entités du tableau et une autre avec le nombre de fois quelles apparaissent"
   ]
  },
  {
   "cell_type": "code",
   "execution_count": 15,
   "id": "26cde3e8",
   "metadata": {},
   "outputs": [
    {
     "name": "stdout",
     "output_type": "stream",
     "text": [
      "Moyenne :  5.08\n",
      "Ecart type :  2.6369679558159214\n",
      "Variance :  6.9536\n"
     ]
    }
   ],
   "source": [
    "print(\"Moyenne : \", A.mean()) # calcule la moyenne\n",
    "print(\"Ecart type : \", A.std()) # calcule l'ecart type,\n",
    "print(\"Variance : \", A.var()) # calcule la variance"
   ]
  },
  {
   "cell_type": "code",
   "execution_count": 16,
   "id": "f7da1251",
   "metadata": {
    "scrolled": false
   },
   "outputs": [
    {
     "name": "stdout",
     "output_type": "stream",
     "text": [
      "(array([0, 1, 2, 3, 4, 5, 6, 7, 8, 9]), array([2, 2, 4, 2, 2, 4, 1, 3, 1, 4], dtype=int64))\n",
      "[6 8 0 1 3 4 7 2 5 9]\n"
     ]
    }
   ],
   "source": [
    "A = np.random.randint(0, 10, [5, 5]) # tableau 2x4\n",
    "\n",
    "print(np.unique(A, return_counts=True)) \n",
    "\n",
    "values, counts = np.unique(A, return_counts=True) # Double attribution pour récupérer les sorties séparément\n",
    "\n",
    "print(values[counts.argsort()]) # Affiche dans l'ordre croissant le nombre d'apparition des entités "
   ]
  },
  {
   "cell_type": "markdown",
   "id": "25a15698",
   "metadata": {},
   "source": [
    "#### 3.2.2. Correlation de Pearson <a class=\"anchor\" id=\"3.2.2\"></a>\n",
    "* **np.corrcoef()** : calcul le coefficieant de corrélation (r), entre les lignes d'un tableau ou même entre deux tableaux. Les lignes sont des variables et les colonnes sont les observations associées à ces variables."
   ]
  },
  {
   "cell_type": "code",
   "execution_count": 17,
   "id": "2a6fe97f",
   "metadata": {},
   "outputs": [
    {
     "name": "stdout",
     "output_type": "stream",
     "text": [
      "[[1.         0.63965865]\n",
      " [0.63965865 1.        ]]\n",
      "r: 0.640\n"
     ]
    }
   ],
   "source": [
    "B = np.random.randn(2, 4) # nombres aléatoires 2x4\n",
    " \n",
    "print(np.corrcoef(B)) # retourne la matrice de corrélation de B\n",
    "print(\"r: {:.3f}\".format(np.corrcoef(B)[0, 1])) # coef de corrélation entre la première et la seconde ligne"
   ]
  },
  {
   "cell_type": "markdown",
   "id": "7fffe2b6",
   "metadata": {},
   "source": [
    "#### 3.2.3. Correction de dataset <a class=\"anchor\" id=\"3.2.3\"></a>\n",
    "Parfois les dataset ne sont pas complet et comportent des données manquantes. Celles-ci sont nommées \"nan\" pour Not A Number dans les tableaux numpy. Il est alors impossible de faire des opérations sur les tableaux. Mais certaines fonction permettent tout de même de faire des calculs en ignorant ces données manquantes :\n",
    "* **np.nanmean()** : Calcul de la moyenne en ignorant les nan\n",
    "* **np.nanstd()** : Calcul de l'écart-type en ignorant les nan\n",
    "* **np.nanvar()** : Calcul de la variance en ignorant les nan\n",
    "* **np.isnan()** : Masque Booléan avec nan = True"
   ]
  },
  {
   "cell_type": "code",
   "execution_count": 18,
   "id": "d6c7e8d5",
   "metadata": {},
   "outputs": [
    {
     "name": "stdout",
     "output_type": "stream",
     "text": [
      "[[False  True False]\n",
      " [False False False]]\n",
      "ratio NaN/zise: 0.16666666666666666\n"
     ]
    }
   ],
   "source": [
    "A = np.array([[1, np.nan, 4], [3, 9, 2]]) # tableau 2x3\n",
    "\n",
    "print(np.isnan(A))\n",
    "print('ratio NaN/zise:', (np.isnan(A).sum()/A.size)) # calcule la proportion de NaN dans A"
   ]
  },
  {
   "cell_type": "markdown",
   "id": "109235ad",
   "metadata": {},
   "source": [
    "### 3.3. Algèbre linéaire <a class=\"anchor\" id=\"3.3\"></a>\n",
    "* **.T** : transposé de la matrice \n",
    "* **.dot()** ou **@** : produit matricielle\n",
    "* **np.linalg.det()** : déterminant d'une matrice\n",
    "* **np.linalg.inv()** : inversion d'une matrice\n",
    "* **np.linalg.eig()** : valeur propre et vecteur propre d'une matrice"
   ]
  },
  {
   "cell_type": "code",
   "execution_count": 19,
   "id": "b20bed04",
   "metadata": {},
   "outputs": [
    {
     "name": "stdout",
     "output_type": "stream",
     "text": [
      "A * B =  [[16 52]\n",
      " [ 7 22]]\n",
      "valeur propre:\n",
      " [6. 1.]\n",
      "vecteur propre:\n",
      " [[ 0.9486833  -0.89442719]\n",
      " [ 0.31622777  0.4472136 ]]\n"
     ]
    }
   ],
   "source": [
    "A = np.array([[4, 6], [1, 3]]) \n",
    "B = np.array([[1, 4], [2, 6]])\n",
    "\n",
    "print(\"A * B = \", A.dot(B))\n",
    "\n",
    "val, vec = np.linalg.eig(A)\n",
    "print('valeur propre:\\n', val) # valeur propre\n",
    "print('vecteur propre:\\n', vec) # vecteur propre"
   ]
  },
  {
   "cell_type": "code",
   "execution_count": null,
   "id": "f67858a6",
   "metadata": {},
   "outputs": [],
   "source": []
  }
 ],
 "metadata": {
  "kernelspec": {
   "display_name": "Python 3 (ipykernel)",
   "language": "python",
   "name": "python3"
  },
  "language_info": {
   "codemirror_mode": {
    "name": "ipython",
    "version": 3
   },
   "file_extension": ".py",
   "mimetype": "text/x-python",
   "name": "python",
   "nbconvert_exporter": "python",
   "pygments_lexer": "ipython3",
   "version": "3.9.7"
  }
 },
 "nbformat": 4,
 "nbformat_minor": 5
}
